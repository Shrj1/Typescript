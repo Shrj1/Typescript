{
 "cells": [
  {
   "cell_type": "markdown",
   "id": "ef5f1b38",
   "metadata": {},
   "source": [
    "### tuple"
   ]
  },
  {
   "cell_type": "markdown",
   "id": "47680763",
   "metadata": {},
   "source": [
    "1.defination"
   ]
  },
  {
   "cell_type": "code",
   "execution_count": 1,
   "id": "db364b0e",
   "metadata": {},
   "outputs": [],
   "source": [
    "lan= (\"python\", \"java\" , \"c\", \"php\")"
   ]
  },
  {
   "cell_type": "code",
   "execution_count": 2,
   "id": "55475ac1",
   "metadata": {},
   "outputs": [
    {
     "data": {
      "text/plain": [
       "tuple"
      ]
     },
     "execution_count": 2,
     "metadata": {},
     "output_type": "execute_result"
    }
   ],
   "source": [
    "type (lan)"
   ]
  },
  {
   "cell_type": "code",
   "execution_count": 3,
   "id": "4ff696eb",
   "metadata": {},
   "outputs": [],
   "source": [
    "test =( 1,2,3,4)"
   ]
  },
  {
   "cell_type": "markdown",
   "id": "943834f1",
   "metadata": {},
   "source": [
    "2.access"
   ]
  },
  {
   "cell_type": "code",
   "execution_count": 5,
   "id": "d7610a4e",
   "metadata": {},
   "outputs": [
    {
     "data": {
      "text/plain": [
       "'c'"
      ]
     },
     "execution_count": 5,
     "metadata": {},
     "output_type": "execute_result"
    }
   ],
   "source": [
    "a= lan[2]\n",
    "a"
   ]
  },
  {
   "cell_type": "code",
   "execution_count": 6,
   "id": "04382847",
   "metadata": {},
   "outputs": [
    {
     "name": "stdout",
     "output_type": "stream",
     "text": [
      "php\n"
     ]
    }
   ],
   "source": [
    "print ( lan[3])"
   ]
  },
  {
   "cell_type": "markdown",
   "id": "4c44f9aa",
   "metadata": {},
   "source": [
    "3. packing"
   ]
  },
  {
   "cell_type": "code",
   "execution_count": 7,
   "id": "34f52d95",
   "metadata": {},
   "outputs": [],
   "source": [
    "names= \"ali\", \"hasan\", \"maryam\""
   ]
  },
  {
   "cell_type": "code",
   "execution_count": 8,
   "id": "4379b223",
   "metadata": {},
   "outputs": [
    {
     "data": {
      "text/plain": [
       "('ali', 'hasan', 'maryam')"
      ]
     },
     "execution_count": 8,
     "metadata": {},
     "output_type": "execute_result"
    }
   ],
   "source": [
    "names"
   ]
  },
  {
   "cell_type": "code",
   "execution_count": 9,
   "id": "f7c34358",
   "metadata": {},
   "outputs": [
    {
     "data": {
      "text/plain": [
       "tuple"
      ]
     },
     "execution_count": 9,
     "metadata": {},
     "output_type": "execute_result"
    }
   ],
   "source": [
    "type (names)"
   ]
  },
  {
   "cell_type": "markdown",
   "id": "ab21c394",
   "metadata": {},
   "source": [
    "4.unpacking"
   ]
  },
  {
   "cell_type": "code",
   "execution_count": 10,
   "id": "9696f68f",
   "metadata": {},
   "outputs": [],
   "source": [
    "a= 1,2,3"
   ]
  },
  {
   "cell_type": "code",
   "execution_count": 11,
   "id": "7e063878",
   "metadata": {},
   "outputs": [],
   "source": [
    "x,y,z=a"
   ]
  },
  {
   "cell_type": "markdown",
   "id": "f8bb7fbb",
   "metadata": {},
   "source": [
    "5.edit"
   ]
  },
  {
   "cell_type": "code",
   "execution_count": 12,
   "id": "a1a96ee7",
   "metadata": {},
   "outputs": [],
   "source": [
    "a= 1,2,3"
   ]
  },
  {
   "cell_type": "markdown",
   "id": "c5291f53",
   "metadata": {},
   "source": [
    "6.duplication"
   ]
  },
  {
   "cell_type": "code",
   "execution_count": 13,
   "id": "70541311",
   "metadata": {},
   "outputs": [
    {
     "name": "stdout",
     "output_type": "stream",
     "text": [
      "(1, 2, 2, 3, 4, 5, 6, 5)\n"
     ]
    }
   ],
   "source": [
    "a= 1,2,2,3,4,5,6,5\n",
    "print(a)"
   ]
  },
  {
   "cell_type": "markdown",
   "id": "b590c826",
   "metadata": {},
   "source": [
    "List"
   ]
  },
  {
   "cell_type": "markdown",
   "id": "dadc5916",
   "metadata": {},
   "source": [
    "1. defination"
   ]
  },
  {
   "cell_type": "code",
   "execution_count": 14,
   "id": "3cba887f",
   "metadata": {},
   "outputs": [],
   "source": [
    "list= [\"python\", \"java\", \"php\", \"c\"]"
   ]
  },
  {
   "cell_type": "code",
   "execution_count": 15,
   "id": "cb9b434a",
   "metadata": {},
   "outputs": [
    {
     "data": {
      "text/plain": [
       "list"
      ]
     },
     "execution_count": 15,
     "metadata": {},
     "output_type": "execute_result"
    }
   ],
   "source": [
    "type (list)"
   ]
  },
  {
   "cell_type": "code",
   "execution_count": 16,
   "id": "edd52d78",
   "metadata": {},
   "outputs": [],
   "source": [
    "a= [1,2,3,4]"
   ]
  },
  {
   "cell_type": "code",
   "execution_count": 17,
   "id": "09442e87",
   "metadata": {},
   "outputs": [
    {
     "data": {
      "text/plain": [
       "list"
      ]
     },
     "execution_count": 17,
     "metadata": {},
     "output_type": "execute_result"
    }
   ],
   "source": [
    "type(a)"
   ]
  },
  {
   "cell_type": "markdown",
   "id": "c651f237",
   "metadata": {},
   "source": [
    "2.access"
   ]
  },
  {
   "cell_type": "code",
   "execution_count": 18,
   "id": "de7129a6",
   "metadata": {},
   "outputs": [
    {
     "name": "stdout",
     "output_type": "stream",
     "text": [
      "java\n"
     ]
    }
   ],
   "source": [
    "print (list[1])"
   ]
  },
  {
   "cell_type": "code",
   "execution_count": null,
   "id": "4b2f6dd4",
   "metadata": {},
   "outputs": [],
   "source": []
  },
  {
   "cell_type": "markdown",
   "id": "a8322845",
   "metadata": {},
   "source": [
    "3.edit"
   ]
  },
  {
   "cell_type": "code",
   "execution_count": 19,
   "id": "e2ee7521",
   "metadata": {},
   "outputs": [],
   "source": [
    "list = [\"java\" , \"c\", \"python\", \"php\"]"
   ]
  },
  {
   "cell_type": "code",
   "execution_count": 20,
   "id": "b83ccd5f",
   "metadata": {},
   "outputs": [],
   "source": [
    "list[1]=\"C++\""
   ]
  },
  {
   "cell_type": "code",
   "execution_count": 21,
   "id": "3a58157e",
   "metadata": {},
   "outputs": [
    {
     "name": "stdout",
     "output_type": "stream",
     "text": [
      "['java', 'C++', 'python', 'php']\n"
     ]
    }
   ],
   "source": [
    "print (list)"
   ]
  },
  {
   "cell_type": "markdown",
   "id": "2d5a70c6",
   "metadata": {},
   "source": [
    "4.add"
   ]
  },
  {
   "cell_type": "code",
   "execution_count": 22,
   "id": "fb433c1d",
   "metadata": {},
   "outputs": [],
   "source": [
    "list = [1,2,3,4]"
   ]
  },
  {
   "cell_type": "code",
   "execution_count": 23,
   "id": "30e48fcf",
   "metadata": {},
   "outputs": [
    {
     "data": {
      "text/plain": [
       "[1, 2, 3, 4]"
      ]
     },
     "execution_count": 23,
     "metadata": {},
     "output_type": "execute_result"
    }
   ],
   "source": [
    "list"
   ]
  },
  {
   "cell_type": "code",
   "execution_count": 24,
   "id": "9f90f710",
   "metadata": {},
   "outputs": [],
   "source": [
    "list.append(5)"
   ]
  },
  {
   "cell_type": "code",
   "execution_count": 25,
   "id": "68d87c52",
   "metadata": {},
   "outputs": [
    {
     "data": {
      "text/plain": [
       "[1, 2, 3, 4, 5]"
      ]
     },
     "execution_count": 25,
     "metadata": {},
     "output_type": "execute_result"
    }
   ],
   "source": [
    "list"
   ]
  },
  {
   "cell_type": "code",
   "execution_count": 26,
   "id": "fee0eafc",
   "metadata": {},
   "outputs": [],
   "source": [
    "list.insert(0,6)"
   ]
  },
  {
   "cell_type": "code",
   "execution_count": 27,
   "id": "08585f45",
   "metadata": {},
   "outputs": [
    {
     "data": {
      "text/plain": [
       "[6, 1, 2, 3, 4, 5]"
      ]
     },
     "execution_count": 27,
     "metadata": {},
     "output_type": "execute_result"
    }
   ],
   "source": [
    "list"
   ]
  },
  {
   "cell_type": "markdown",
   "id": "69834a0f",
   "metadata": {},
   "source": [
    "5.remove"
   ]
  },
  {
   "cell_type": "code",
   "execution_count": 28,
   "id": "57f5800d",
   "metadata": {},
   "outputs": [],
   "source": [
    "list.remove(6)"
   ]
  },
  {
   "cell_type": "code",
   "execution_count": 29,
   "id": "ec7a6b72",
   "metadata": {},
   "outputs": [
    {
     "data": {
      "text/plain": [
       "[1, 2, 3, 4, 5]"
      ]
     },
     "execution_count": 29,
     "metadata": {},
     "output_type": "execute_result"
    }
   ],
   "source": [
    "list"
   ]
  },
  {
   "cell_type": "markdown",
   "id": "f5ae7174",
   "metadata": {},
   "source": [
    "6.slice"
   ]
  },
  {
   "cell_type": "code",
   "execution_count": 30,
   "id": "ec180bfe",
   "metadata": {},
   "outputs": [],
   "source": [
    "a= [1,2,3,4,5,6]"
   ]
  },
  {
   "cell_type": "code",
   "execution_count": 31,
   "id": "bca3436b",
   "metadata": {},
   "outputs": [],
   "source": [
    "b = a[1:4]"
   ]
  },
  {
   "cell_type": "code",
   "execution_count": 32,
   "id": "965d3303",
   "metadata": {},
   "outputs": [
    {
     "data": {
      "text/plain": [
       "[2, 3, 4]"
      ]
     },
     "execution_count": 32,
     "metadata": {},
     "output_type": "execute_result"
    }
   ],
   "source": [
    "b"
   ]
  },
  {
   "cell_type": "markdown",
   "id": "6e40dbd5",
   "metadata": {},
   "source": [
    "7.concatination"
   ]
  },
  {
   "cell_type": "code",
   "execution_count": 35,
   "id": "5ae38f3c",
   "metadata": {},
   "outputs": [
    {
     "data": {
      "text/plain": [
       "[1, 2, 3, 4, 5, 6]"
      ]
     },
     "execution_count": 35,
     "metadata": {},
     "output_type": "execute_result"
    }
   ],
   "source": [
    "a= [1,2,3]\n",
    "b= [4,5,6]\n",
    "\n",
    "c= a+b\n",
    "c\n"
   ]
  },
  {
   "cell_type": "markdown",
   "id": "8f92e441",
   "metadata": {},
   "source": [
    "repeat"
   ]
  },
  {
   "cell_type": "code",
   "execution_count": 37,
   "id": "a19844be",
   "metadata": {},
   "outputs": [
    {
     "data": {
      "text/plain": [
       "[1, 2, 3, 1, 2, 3, 1, 2, 3]"
      ]
     },
     "execution_count": 37,
     "metadata": {},
     "output_type": "execute_result"
    }
   ],
   "source": [
    "a=[ 1,2,3]\n",
    "b= a*3\n",
    "b"
   ]
  },
  {
   "cell_type": "markdown",
   "id": "085f8b03",
   "metadata": {},
   "source": [
    "### string"
   ]
  },
  {
   "cell_type": "code",
   "execution_count": 38,
   "id": "11717f1d",
   "metadata": {},
   "outputs": [],
   "source": [
    "a= \"Hello\"\n",
    "b= [\"H\",\"e\",\"l\",\"l\",\"o\"]"
   ]
  },
  {
   "cell_type": "code",
   "execution_count": 39,
   "id": "c4710104",
   "metadata": {},
   "outputs": [
    {
     "data": {
      "text/plain": [
       "'Hello'"
      ]
     },
     "execution_count": 39,
     "metadata": {},
     "output_type": "execute_result"
    }
   ],
   "source": [
    "a"
   ]
  },
  {
   "cell_type": "code",
   "execution_count": 40,
   "id": "cc17c1cd",
   "metadata": {},
   "outputs": [
    {
     "data": {
      "text/plain": [
       "['H', 'e', 'l', 'l', 'o']"
      ]
     },
     "execution_count": 40,
     "metadata": {},
     "output_type": "execute_result"
    }
   ],
   "source": [
    "b"
   ]
  },
  {
   "cell_type": "code",
   "execution_count": null,
   "id": "5f26bda4",
   "metadata": {},
   "outputs": [],
   "source": []
  }
 ],
 "metadata": {
  "kernelspec": {
   "display_name": "Python 3",
   "language": "python",
   "name": "python3"
  },
  "language_info": {
   "codemirror_mode": {
    "name": "ipython",
    "version": 3
   },
   "file_extension": ".py",
   "mimetype": "text/x-python",
   "name": "python",
   "nbconvert_exporter": "python",
   "pygments_lexer": "ipython3",
   "version": "3.13.2"
  }
 },
 "nbformat": 4,
 "nbformat_minor": 5
}
