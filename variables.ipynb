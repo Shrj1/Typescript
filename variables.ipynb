{
 "cells": [
  {
   "cell_type": "code",
   "execution_count": null,
   "id": "9b36cfc8",
   "metadata": {},
   "outputs": [],
   "source": []
  },
  {
   "cell_type": "code",
   "execution_count": 19,
   "id": "e7b6053e",
   "metadata": {},
   "outputs": [
    {
     "name": "stdout",
     "output_type": "stream",
     "text": [
      "3.14\n"
     ]
    }
   ],
   "source": [
    "pi=3.14\n",
    "print(pi)"
   ]
  },
  {
   "cell_type": "code",
   "execution_count": null,
   "id": "84460da7",
   "metadata": {},
   "outputs": [],
   "source": []
  },
  {
   "cell_type": "code",
   "execution_count": 14,
   "id": "396ab812",
   "metadata": {},
   "outputs": [
    {
     "data": {
      "text/plain": [
       "30"
      ]
     },
     "execution_count": 14,
     "metadata": {},
     "output_type": "execute_result"
    }
   ],
   "source": [
    "age"
   ]
  },
  {
   "cell_type": "code",
   "execution_count": 15,
   "id": "dbbac814",
   "metadata": {},
   "outputs": [],
   "source": [
    "age=30"
   ]
  },
  {
   "cell_type": "code",
   "execution_count": 16,
   "id": "2737cd29",
   "metadata": {},
   "outputs": [],
   "source": [
    "name=\"sahar\""
   ]
  },
  {
   "cell_type": "code",
   "execution_count": 17,
   "id": "0ed913ee",
   "metadata": {},
   "outputs": [
    {
     "name": "stdout",
     "output_type": "stream",
     "text": [
      "sahar\n"
     ]
    }
   ],
   "source": [
    "print(name)"
   ]
  },
  {
   "cell_type": "code",
   "execution_count": 20,
   "id": "9d1ad812",
   "metadata": {},
   "outputs": [
    {
     "name": "stdout",
     "output_type": "stream",
     "text": [
      "4 5 6\n"
     ]
    }
   ],
   "source": [
    "a,b,c= 4,5,6\n",
    "print(a,b,c)"
   ]
  },
  {
   "cell_type": "code",
   "execution_count": 1,
   "id": "5dab414e",
   "metadata": {},
   "outputs": [],
   "source": [
    "name=\"sahar\"\n",
    "Name=\"Mahyar\"\n"
   ]
  },
  {
   "cell_type": "code",
   "execution_count": 2,
   "id": "1a2999ee",
   "metadata": {},
   "outputs": [
    {
     "data": {
      "text/plain": [
       "('sahar', 'Mahyar')"
      ]
     },
     "execution_count": 2,
     "metadata": {},
     "output_type": "execute_result"
    }
   ],
   "source": [
    "name,Name"
   ]
  },
  {
   "cell_type": "code",
   "execution_count": null,
   "id": "ce4283b1",
   "metadata": {},
   "outputs": [],
   "source": [
    "dateOfBirth=\"21/08/1991 camelCase\"\n"
   ]
  },
  {
   "cell_type": "code",
   "execution_count": 4,
   "id": "9af2dfa9",
   "metadata": {},
   "outputs": [
    {
     "data": {
      "text/plain": [
       "'21/08/1991'"
      ]
     },
     "execution_count": 4,
     "metadata": {},
     "output_type": "execute_result"
    }
   ],
   "source": [
    "dateOfBirth"
   ]
  },
  {
   "cell_type": "code",
   "execution_count": 5,
   "id": "7bf09179",
   "metadata": {},
   "outputs": [],
   "source": [
    "date_of_birth=\"21/08/1991 snacke_case\""
   ]
  },
  {
   "cell_type": "code",
   "execution_count": 6,
   "id": "1028e54b",
   "metadata": {},
   "outputs": [
    {
     "data": {
      "text/plain": [
       "(43, 25)"
      ]
     },
     "execution_count": 6,
     "metadata": {},
     "output_type": "execute_result"
    }
   ],
   "source": [
    "a1=43\n",
    "b2=25\n",
    "a2=12\n",
    "a1,b2\n"
   ]
  },
  {
   "cell_type": "markdown",
   "id": "c9b44355",
   "metadata": {},
   "source": [
    "### integer"
   ]
  },
  {
   "cell_type": "code",
   "execution_count": 8,
   "id": "1643c220",
   "metadata": {},
   "outputs": [
    {
     "data": {
      "text/plain": [
       "(2, 0, -2)"
      ]
     },
     "execution_count": 8,
     "metadata": {},
     "output_type": "execute_result"
    }
   ],
   "source": [
    "a=2\n",
    "b=0\n",
    "c=-2\n",
    "a,b,c"
   ]
  },
  {
   "cell_type": "markdown",
   "id": "52017c9e",
   "metadata": {},
   "source": [
    "### float\n"
   ]
  },
  {
   "cell_type": "code",
   "execution_count": 1,
   "id": "25637d91",
   "metadata": {},
   "outputs": [
    {
     "data": {
      "text/plain": [
       "(3.14, -5.3)"
      ]
     },
     "execution_count": 1,
     "metadata": {},
     "output_type": "execute_result"
    }
   ],
   "source": [
    "x=3.14\n",
    "y=-5.3\n",
    "\n",
    "x,y"
   ]
  },
  {
   "cell_type": "markdown",
   "id": "de3f6150",
   "metadata": {},
   "source": [
    "### string\n"
   ]
  },
  {
   "cell_type": "code",
   "execution_count": 2,
   "id": "0778cf8d",
   "metadata": {},
   "outputs": [
    {
     "data": {
      "text/plain": [
       "('developer', 'test')"
      ]
     },
     "execution_count": 2,
     "metadata": {},
     "output_type": "execute_result"
    }
   ],
   "source": [
    "name= \"developer\"\n",
    "a=\"test\"\n",
    "\n",
    "name,a"
   ]
  },
  {
   "cell_type": "code",
   "execution_count": 3,
   "id": "12fafd07",
   "metadata": {},
   "outputs": [
    {
     "data": {
      "text/plain": [
       "37"
      ]
     },
     "execution_count": 3,
     "metadata": {},
     "output_type": "execute_result"
    }
   ],
   "source": [
    "a= \" sahar jeirani Mahyar nikzad larijani\"\n",
    "len(a)"
   ]
  },
  {
   "cell_type": "code",
   "execution_count": 5,
   "id": "ffe6392f",
   "metadata": {},
   "outputs": [
    {
     "data": {
      "text/plain": [
       "'helloali'"
      ]
     },
     "execution_count": 5,
     "metadata": {},
     "output_type": "execute_result"
    }
   ],
   "source": [
    "a= \"hello\"\n",
    "b=\"ali\"\n",
    "c= a + b\n",
    "\n",
    "c"
   ]
  },
  {
   "cell_type": "code",
   "execution_count": 6,
   "id": "d4be4847",
   "metadata": {},
   "outputs": [
    {
     "data": {
      "text/plain": [
       "'*'"
      ]
     },
     "execution_count": 6,
     "metadata": {},
     "output_type": "execute_result"
    }
   ],
   "source": [
    "a=\"*\"\n",
    "a"
   ]
  },
  {
   "cell_type": "code",
   "execution_count": 7,
   "id": "e0f7ae0c",
   "metadata": {},
   "outputs": [
    {
     "data": {
      "text/plain": [
       "'*****'"
      ]
     },
     "execution_count": 7,
     "metadata": {},
     "output_type": "execute_result"
    }
   ],
   "source": [
    "b= a*5\n",
    "b"
   ]
  },
  {
   "cell_type": "code",
   "execution_count": 8,
   "id": "87ed1fb9",
   "metadata": {},
   "outputs": [
    {
     "data": {
      "text/plain": [
       "'ABCDF'"
      ]
     },
     "execution_count": 8,
     "metadata": {},
     "output_type": "execute_result"
    }
   ],
   "source": [
    "a= \"abcdf\"\n",
    "b=a.upper()\n",
    "b\n"
   ]
  },
  {
   "cell_type": "code",
   "execution_count": 9,
   "id": "e756795b",
   "metadata": {},
   "outputs": [
    {
     "data": {
      "text/plain": [
       "'abcdf'"
      ]
     },
     "execution_count": 9,
     "metadata": {},
     "output_type": "execute_result"
    }
   ],
   "source": [
    "c=a.lower()\n",
    "c"
   ]
  },
  {
   "cell_type": "code",
   "execution_count": 10,
   "id": "ef997c62",
   "metadata": {},
   "outputs": [
    {
     "data": {
      "text/plain": [
       "'hello world'"
      ]
     },
     "execution_count": 10,
     "metadata": {},
     "output_type": "execute_result"
    }
   ],
   "source": [
    "a= \"     hello world   \"\n",
    "b= a.strip()\n",
    "b\n"
   ]
  },
  {
   "cell_type": "markdown",
   "id": "8163f564",
   "metadata": {},
   "source": [
    "### string formatting"
   ]
  },
  {
   "cell_type": "code",
   "execution_count": 11,
   "id": "e52c8810",
   "metadata": {},
   "outputs": [
    {
     "ename": "TypeError",
     "evalue": "can only concatenate str (not \"int\") to str",
     "output_type": "error",
     "traceback": [
      "\u001b[31m---------------------------------------------------------------------------\u001b[39m",
      "\u001b[31mTypeError\u001b[39m                                 Traceback (most recent call last)",
      "\u001b[36mCell\u001b[39m\u001b[36m \u001b[39m\u001b[32mIn[11]\u001b[39m\u001b[32m, line 3\u001b[39m\n\u001b[32m      1\u001b[39m name= \u001b[33m\"\u001b[39m\u001b[33mAli\u001b[39m\u001b[33m\"\u001b[39m\n\u001b[32m      2\u001b[39m age= \u001b[32m30\u001b[39m\n\u001b[32m----> \u001b[39m\u001b[32m3\u001b[39m \u001b[38;5;28mprint\u001b[39m ( \u001b[33;43m\"\u001b[39;49m\u001b[33;43mHello\u001b[39;49m\u001b[33;43m\"\u001b[39;49m\u001b[43m \u001b[49m\u001b[43m+\u001b[49m\u001b[43m \u001b[49m\u001b[43mname\u001b[49m\u001b[43m \u001b[49m\u001b[43m+\u001b[49m\u001b[43m \u001b[49m\u001b[33;43m\"\u001b[39;49m\u001b[33;43m,you are\u001b[39;49m\u001b[33;43m\"\u001b[39;49m\u001b[43m+\u001b[49m\u001b[43m \u001b[49m\u001b[43mage\u001b[49m + \u001b[33m\"\u001b[39m\u001b[33myears old\u001b[39m\u001b[33m\"\u001b[39m)\n",
      "\u001b[31mTypeError\u001b[39m: can only concatenate str (not \"int\") to str"
     ]
    }
   ],
   "source": [
    "name= \"Ali\"\n",
    "age= 30\n",
    "print ( \"Hello\" + name + \",you are\"+ age + \"years old\")"
   ]
  },
  {
   "cell_type": "code",
   "execution_count": 13,
   "id": "c2648c01",
   "metadata": {},
   "outputs": [
    {
     "name": "stdout",
     "output_type": "stream",
     "text": [
      "Hello Ali , you are 30  years old\n"
     ]
    }
   ],
   "source": [
    "name= \"Ali\"\n",
    "age= 30\n",
    "print ( \"Hello %s , you are %d  years old\" %(name, age))"
   ]
  },
  {
   "cell_type": "code",
   "execution_count": 14,
   "id": "78c46614",
   "metadata": {},
   "outputs": [
    {
     "name": "stdout",
     "output_type": "stream",
     "text": [
      "Hello Ali, you are 30 years old\n"
     ]
    }
   ],
   "source": [
    "print (\"Hello {}, you are {} years old\".format (name,age))"
   ]
  },
  {
   "cell_type": "code",
   "execution_count": 15,
   "id": "25119878",
   "metadata": {},
   "outputs": [
    {
     "name": "stdout",
     "output_type": "stream",
     "text": [
      "hello Ali, you are 30 years old\n"
     ]
    }
   ],
   "source": [
    "print (f\"hello {name}, you are {age} years old\")"
   ]
  },
  {
   "cell_type": "markdown",
   "id": "a4d5b0fd",
   "metadata": {},
   "source": [
    "### Boolean"
   ]
  },
  {
   "cell_type": "code",
   "execution_count": 17,
   "id": "157faf55",
   "metadata": {},
   "outputs": [
    {
     "data": {
      "text/plain": [
       "(True, False)"
      ]
     },
     "execution_count": 17,
     "metadata": {},
     "output_type": "execute_result"
    }
   ],
   "source": [
    "a= True\n",
    "b= False\n",
    "a,b"
   ]
  },
  {
   "cell_type": "code",
   "execution_count": null,
   "id": "c1c4a969",
   "metadata": {},
   "outputs": [],
   "source": []
  }
 ],
 "metadata": {
  "kernelspec": {
   "display_name": "Python 3",
   "language": "python",
   "name": "python3"
  },
  "language_info": {
   "codemirror_mode": {
    "name": "ipython",
    "version": 3
   },
   "file_extension": ".py",
   "mimetype": "text/x-python",
   "name": "python",
   "nbconvert_exporter": "python",
   "pygments_lexer": "ipython3",
   "version": "3.13.2"
  }
 },
 "nbformat": 4,
 "nbformat_minor": 5
}
