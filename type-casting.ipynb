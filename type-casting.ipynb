{
 "cells": [
  {
   "cell_type": "markdown",
   "id": "23557b3f",
   "metadata": {},
   "source": [
    "### data types"
   ]
  },
  {
   "cell_type": "markdown",
   "id": "25645692",
   "metadata": {},
   "source": [
    ".numeric\n",
    "integer\n",
    "float\n",
    "\n",
    "\n",
    ".boolean(bool)\n",
    ".string(str)"
   ]
  },
  {
   "cell_type": "code",
   "execution_count": 1,
   "id": "3db3f5d4",
   "metadata": {},
   "outputs": [
    {
     "data": {
      "text/plain": [
       "int"
      ]
     },
     "execution_count": 1,
     "metadata": {},
     "output_type": "execute_result"
    }
   ],
   "source": [
    "a=2\n",
    "type(a)"
   ]
  },
  {
   "cell_type": "code",
   "execution_count": 2,
   "id": "c9719041",
   "metadata": {},
   "outputs": [
    {
     "data": {
      "text/plain": [
       "float"
      ]
     },
     "execution_count": 2,
     "metadata": {},
     "output_type": "execute_result"
    }
   ],
   "source": [
    "b= 2.34\n",
    "type(b)"
   ]
  },
  {
   "cell_type": "code",
   "execution_count": 4,
   "id": "d0e3a288",
   "metadata": {},
   "outputs": [
    {
     "data": {
      "text/plain": [
       "True"
      ]
     },
     "execution_count": 4,
     "metadata": {},
     "output_type": "execute_result"
    }
   ],
   "source": [
    "c= True\n",
    "c"
   ]
  },
  {
   "cell_type": "code",
   "execution_count": 5,
   "id": "733fa56e",
   "metadata": {},
   "outputs": [
    {
     "data": {
      "text/plain": [
       "bool"
      ]
     },
     "execution_count": 5,
     "metadata": {},
     "output_type": "execute_result"
    }
   ],
   "source": [
    "type(c)"
   ]
  },
  {
   "cell_type": "code",
   "execution_count": 6,
   "id": "5f1ee36f",
   "metadata": {},
   "outputs": [
    {
     "data": {
      "text/plain": [
       "str"
      ]
     },
     "execution_count": 6,
     "metadata": {},
     "output_type": "execute_result"
    }
   ],
   "source": [
    "d= \"hello\"\n",
    "type(d)\n"
   ]
  },
  {
   "cell_type": "markdown",
   "id": "0ee7585e",
   "metadata": {},
   "source": [
    "### type casting"
   ]
  },
  {
   "cell_type": "markdown",
   "id": "aa6eca7d",
   "metadata": {},
   "source": [
    "1.Implicit"
   ]
  },
  {
   "cell_type": "code",
   "execution_count": 7,
   "id": "2b55a48e",
   "metadata": {},
   "outputs": [
    {
     "data": {
      "text/plain": [
       "(int, float)"
      ]
     },
     "execution_count": 7,
     "metadata": {},
     "output_type": "execute_result"
    }
   ],
   "source": [
    "a=2\n",
    "b=2.14\n",
    "type(a), type (b)\n"
   ]
  },
  {
   "cell_type": "code",
   "execution_count": 8,
   "id": "b9fd4597",
   "metadata": {},
   "outputs": [
    {
     "data": {
      "text/plain": [
       "float"
      ]
     },
     "execution_count": 8,
     "metadata": {},
     "output_type": "execute_result"
    }
   ],
   "source": [
    "c = a+b\n",
    "type(c)\n"
   ]
  },
  {
   "cell_type": "markdown",
   "id": "5f00fd33",
   "metadata": {},
   "source": [
    "2.explicit\n",
    "-int()\n",
    "-float()\n",
    "-string()\n",
    "-bool()"
   ]
  },
  {
   "cell_type": "code",
   "execution_count": 9,
   "id": "ea59473d",
   "metadata": {},
   "outputs": [
    {
     "data": {
      "text/plain": [
       "(2, 2, 1)"
      ]
     },
     "execution_count": 9,
     "metadata": {},
     "output_type": "execute_result"
    }
   ],
   "source": [
    "a= 2.13\n",
    "b= \"2\"\n",
    "c= True\n",
    "\n",
    "int(a), int(b), int (c)"
   ]
  }
 ],
 "metadata": {
  "kernelspec": {
   "display_name": "Python 3",
   "language": "python",
   "name": "python3"
  },
  "language_info": {
   "codemirror_mode": {
    "name": "ipython",
    "version": 3
   },
   "file_extension": ".py",
   "mimetype": "text/x-python",
   "name": "python",
   "nbconvert_exporter": "python",
   "pygments_lexer": "ipython3",
   "version": "3.13.2"
  }
 },
 "nbformat": 4,
 "nbformat_minor": 5
}
